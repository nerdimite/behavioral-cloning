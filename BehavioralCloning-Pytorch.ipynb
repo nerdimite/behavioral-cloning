{
 "cells": [
  {
   "cell_type": "markdown",
   "metadata": {},
   "source": [
    "# Behavioral Cloning"
   ]
  },
  {
   "cell_type": "markdown",
   "metadata": {},
   "source": [
    "## Load Data"
   ]
  },
  {
   "cell_type": "code",
   "execution_count": 1,
   "metadata": {},
   "outputs": [],
   "source": [
    "import pandas as pd\n",
    "import numpy as np\n",
    "import cv2\n",
    "import os\n",
    "from sklearn.model_selection import train_test_split\n",
    "import matplotlib.pyplot as plt\n",
    "from tqdm.notebook import tqdm\n",
    "import re\n",
    "\n",
    "import torch\n",
    "from torch import nn\n",
    "import torch.nn.functional as F\n",
    "from torchvision import transforms as tfms\n",
    "%matplotlib inline"
   ]
  },
  {
   "cell_type": "code",
   "execution_count": 2,
   "metadata": {},
   "outputs": [],
   "source": [
    "# read the dataset\n",
    "data_df = pd.read_csv('training_data_plains/driving_log.csv', header=None)"
   ]
  },
  {
   "cell_type": "code",
   "execution_count": 3,
   "metadata": {},
   "outputs": [],
   "source": [
    "# def format_path(path):\n",
    "#     return re.sub(re.escape(os.path.normpath(\"\\\\\")), '/', path[31:])"
   ]
  },
  {
   "cell_type": "code",
   "execution_count": 4,
   "metadata": {},
   "outputs": [],
   "source": [
    "# for i in range(3):\n",
    "#     data_df[i] = data_df[i].map(format_path)"
   ]
  },
  {
   "cell_type": "code",
   "execution_count": 5,
   "metadata": {},
   "outputs": [],
   "source": [
    "# get the center, left and right as X data and the steering angle as y data\n",
    "X = data_df[[0,1,2]].values\n",
    "y = data_df[3].values"
   ]
  },
  {
   "cell_type": "code",
   "execution_count": 6,
   "metadata": {},
   "outputs": [],
   "source": [
    "X_train, X_val, y_train, y_val = train_test_split(X, y, test_size=0.33)"
   ]
  },
  {
   "cell_type": "code",
   "execution_count": 7,
   "metadata": {},
   "outputs": [
    {
     "name": "stdout",
     "output_type": "stream",
     "text": [
      "Train Length: 14756\n",
      "Val Length: 7268\n"
     ]
    }
   ],
   "source": [
    "print('Train Length:',len(X_train))\n",
    "print('Val Length:',len(X_val))"
   ]
  },
  {
   "cell_type": "code",
   "execution_count": 8,
   "metadata": {},
   "outputs": [
    {
     "data": {
      "image/png": "[encoded data removed]",
      "text/plain": [
       "<Figure size 432x288 with 1 Axes>"
      ]
     },
     "metadata": {
      "needs_background": "light"
     },
     "output_type": "display_data"
    }
   ],
   "source": [
    "# steering angle histogram\n",
    "plt.hist(y_train, bins=20)\n",
    "plt.show()"
   ]
  },
  {
   "cell_type": "markdown",
   "metadata": {},
   "source": [
    "## Data Preprocessing and Augmentation\n",
    "\n",
    "* augmentation\n",
    "    * choose center | left | right\n",
    "    * flip\n",
    "    * brightness\n",
    "* preprocess\n",
    "* batch generator"
   ]
  },
  {
   "cell_type": "code",
   "execution_count": 9,
   "metadata": {},
   "outputs": [],
   "source": [
    "def choose_image(image_paths, steering_angle):\n",
    "    '''Choose center | left | right and adjust the steering angle accordingly'''\n",
    "    \n",
    "    choice = np.random.choice(3)\n",
    "    \n",
    "    if choice == 0: # left\n",
    "        return cv2.imread(image_paths[1].strip()), steering_angle + 0.2\n",
    "    \n",
    "    elif choice == 1: # right\n",
    "        return cv2.imread(image_paths[2].strip()), steering_angle - 0.2\n",
    "    \n",
    "    return cv2.imread(image_paths[0].strip()), steering_angle # center"
   ]
  },
  {
   "cell_type": "code",
   "execution_count": 10,
   "metadata": {},
   "outputs": [],
   "source": [
    "def random_flip(image, steering_angle):\n",
    "    '''Randomly flip the image horizontally and adjust steering angle'''\n",
    "    \n",
    "    if np.random.rand() < 0.5:\n",
    "        image = cv2.flip(image, 1)\n",
    "        steering_angle = -steering_angle\n",
    "    return image, steering_angle"
   ]
  },
  {
   "cell_type": "code",
   "execution_count": 11,
   "metadata": {},
   "outputs": [],
   "source": [
    "def random_brightness(image):\n",
    "    '''Randomly increase or decrease brightness'''\n",
    "    \n",
    "    choice = np.random.choice(2)\n",
    "    \n",
    "    if choice == 1:\n",
    "        return image + np.random.randint(1,20)\n",
    "    \n",
    "    return image - np.random.randint(0,30)"
   ]
  },
  {
   "cell_type": "code",
   "execution_count": 12,
   "metadata": {},
   "outputs": [],
   "source": [
    "def augmentation(image_paths, steering_angle):\n",
    "    '''Generate an augmented image'''\n",
    "\n",
    "    image, steering_angle = choose_image(image_paths, steering_angle)\n",
    "\n",
    "    image, steering_angle = random_flip(image, steering_angle)\n",
    "    image = random_brightness(image)\n",
    "    \n",
    "    return image, steering_angle"
   ]
  },
  {
   "cell_type": "code",
   "execution_count": 13,
   "metadata": {},
   "outputs": [],
   "source": [
    "def preprocess_image(img):\n",
    "    '''Preprocess an image by cropping, resizing and tensorizing'''\n",
    "    img = img[60:-25,:]\n",
    "    img = cv2.resize(img, (200, 66))\n",
    "    img = tfms.ToTensor()(img)\n",
    "    return img"
   ]
  },
  {
   "cell_type": "code",
   "execution_count": 14,
   "metadata": {},
   "outputs": [],
   "source": [
    "def batch_generator(X_data, y_data, batch_size, is_training=True):\n",
    "    '''Generate Training Data'''\n",
    "    \n",
    "    images = torch.empty([batch_size, 3, 66, 200])\n",
    "    steers = torch.empty(batch_size)\n",
    "    while True:\n",
    "        i = 0\n",
    "        for idx in np.random.permutation(X_data.shape[0]):\n",
    "            image_paths = X_data[idx]\n",
    "            steering_angle = y_data[idx]\n",
    "\n",
    "            # randomly decide to augment or not\n",
    "            if is_training and np.random.rand() < 0.5:\n",
    "                image, steering_angle = augmentation(image_paths, steering_angle)\n",
    "            else:\n",
    "                image = cv2.imread(image_paths[0])\n",
    "\n",
    "            images[i] = preprocess_image(image)\n",
    "            steers[i] = steering_angle\n",
    "\n",
    "            i += 1\n",
    "            if i == batch_size:\n",
    "                break\n",
    "            \n",
    "        yield images, steers"
   ]
  },
  {
   "cell_type": "markdown",
   "metadata": {},
   "source": [
    "## Building the Model"
   ]
  },
  {
   "cell_type": "code",
   "execution_count": 15,
   "metadata": {},
   "outputs": [],
   "source": [
    "class NvidiaModel(nn.Module):\n",
    "    def __init__(self):\n",
    "        super().__init__()\n",
    "        self.conv1 = nn.Conv2d(3, 24, 5, 2)\n",
    "        self.conv2 = nn.Conv2d(24, 36, 5, 2)\n",
    "        self.conv3 = nn.Conv2d(36, 48, 5, 2)\n",
    "        self.conv4 = nn.Conv2d(48, 64, 3, 1)\n",
    "        self.conv5 = nn.Conv2d(64, 64, 3, 1)\n",
    "        \n",
    "        self.dense = nn.Sequential(nn.Linear(1152, 100),\n",
    "                                   nn.ELU(),\n",
    "                                   nn.Dropout(0.25),\n",
    "                                   nn.Linear(100, 50),\n",
    "                                   nn.ELU(),\n",
    "                                   nn.Linear(50, 10),\n",
    "                                   nn.ELU(),\n",
    "                                   nn.Linear(10, 1))\n",
    "    \n",
    "    def forward(self, x):\n",
    "        \n",
    "        batch_size = x.size(0)\n",
    "        \n",
    "        # Convolutional Pass\n",
    "        x = F.elu(self.conv1(x))\n",
    "        x = F.elu(self.conv2(x))\n",
    "        x = F.elu(self.conv3(x))\n",
    "        x = F.elu(self.conv4(x))\n",
    "        x = F.elu(self.conv5(x))\n",
    "        \n",
    "        # Linear Pass\n",
    "        x = x.reshape(batch_size, -1)\n",
    "        out = self.dense(x)\n",
    "        \n",
    "        return out"
   ]
  },
  {
   "cell_type": "code",
   "execution_count": 16,
   "metadata": {},
   "outputs": [],
   "source": [
    "device = 'cuda' if torch.cuda.is_available() else 'cpu'"
   ]
  },
  {
   "cell_type": "code",
   "execution_count": 17,
   "metadata": {},
   "outputs": [],
   "source": [
    "model = NvidiaModel()"
   ]
  },
  {
   "cell_type": "markdown",
   "metadata": {},
   "source": [
    "## Train Model"
   ]
  },
  {
   "cell_type": "code",
   "execution_count": 18,
   "metadata": {},
   "outputs": [],
   "source": [
    "criterion = nn.MSELoss()\n",
    "optimizer = torch.optim.Adam(model.parameters(), lr=0.001)\n",
    "scheduler = torch.optim.lr_scheduler.StepLR(optimizer, gamma=0.5, step_size=2)"
   ]
  },
  {
   "cell_type": "code",
   "execution_count": 19,
   "metadata": {},
   "outputs": [],
   "source": [
    "from time import time"
   ]
  },
  {
   "cell_type": "code",
   "execution_count": 20,
   "metadata": {},
   "outputs": [],
   "source": [
    "def train(model,\n",
    "          criterion,\n",
    "          optimizer, \n",
    "          scheduler,\n",
    "          tag,\n",
    "          train_steps=5000,\n",
    "          validation_steps=1000,\n",
    "          batch_size=32,\n",
    "          epochs=10,\n",
    "          device='cuda'):\n",
    "    \n",
    "    # push to model to the device (CUDA or CPU)\n",
    "    model.to(device)\n",
    "    \n",
    "    # Create Data Generators\n",
    "    train_loader = batch_generator(X_train, y_train, batch_size)\n",
    "    val_loader = batch_generator(X_val, y_val, batch_size, is_training=False)\n",
    "    \n",
    "    # Directory for saving model\n",
    "    if not os.path.isdir('models'):\n",
    "        os.mkdir('models')\n",
    "    \n",
    "    for current_epoch in range(1, epochs+1):\n",
    "        \n",
    "        # TRAIN\n",
    "        pbar = tqdm(desc=f\"Training Epoch {current_epoch}\", total=train_steps)\n",
    "        model.train()\n",
    "        \n",
    "        for i in range(train_steps):\n",
    "            images, steers = next(train_loader)\n",
    "            \n",
    "            images = images.to(device)\n",
    "            steers = steers.to(device)\n",
    "            \n",
    "            # set the optimizer to zero gradients\n",
    "            optimizer.zero_grad()\n",
    "            \n",
    "            # pass the inputs through the model\n",
    "            outputs = model(images)\n",
    "\n",
    "            # calculate loss\n",
    "            loss = criterion(outputs.squeeze(1), steers)\n",
    "            # backpropagate\n",
    "            loss.backward()\n",
    "            # optimize\n",
    "            optimizer.step()\n",
    "            \n",
    "            pbar.set_postfix({\n",
    "                'Train Loss': loss.item()\n",
    "            })\n",
    "            pbar.update(1)\n",
    "        \n",
    "        pbar.close()\n",
    "        \n",
    "        # VALIDATION\n",
    "        model.eval()\n",
    "        \n",
    "        with torch.no_grad():\n",
    "            \n",
    "            val_pbar = tqdm(desc=f\"Validation Epoch {current_epoch}\", total=validation_steps)\n",
    "            \n",
    "            val_losses = []\n",
    "            \n",
    "            for i in range(validation_steps):\n",
    "                images, steers = next(val_loader)\n",
    "                # move the data to selected device\n",
    "                images = images.to(device)\n",
    "                steers = steers.to(device)\n",
    "\n",
    "                # pass the inputs through the model\n",
    "                outputs = model(images)\n",
    "\n",
    "                # calculate loss\n",
    "                loss = criterion(outputs.squeeze(1), steers)\n",
    "                val_losses.append(loss.item())\n",
    "                \n",
    "                val_pbar.set_postfix({\n",
    "                    'Val Loss': loss.item()\n",
    "                })\n",
    "                val_pbar.update(1)\n",
    "            \n",
    "            mean_val_loss = sum(val_losses)/len(val_losses)\n",
    "        \n",
    "        val_pbar.set_postfix({\n",
    "            'Avg Val Loss': mean_val_loss\n",
    "        })\n",
    "        val_pbar.close()\n",
    "        \n",
    "        # Save model\n",
    "        torch.save(model.state_dict(), f'models/model-{current_epoch}-{tag}.pth')\n",
    "    \n",
    "        scheduler.step()"
   ]
  },
  {
   "cell_type": "code",
   "execution_count": null,
   "metadata": {},
   "outputs": [],
   "source": [
    "%%time\n",
    "train(model, criterion, optimizer, scheduler, tag='plains', epochs=10, device=device)"
   ]
  },
  {
   "cell_type": "code",
   "execution_count": null,
   "metadata": {},
   "outputs": [],
   "source": []
  }
 ],
 "metadata": {
  "kernelspec": {
   "display_name": "Python 3",
   "language": "python",
   "name": "python3"
  },
  "language_info": {
   "codemirror_mode": {
    "name": "ipython",
    "version": 3
   },
   "file_extension": ".py",
   "mimetype": "text/x-python",
   "name": "python",
   "nbconvert_exporter": "python",
   "pygments_lexer": "ipython3",
   "version": "3.8.5"
  }
 },
 "nbformat": 4,
 "nbformat_minor": 5
}
