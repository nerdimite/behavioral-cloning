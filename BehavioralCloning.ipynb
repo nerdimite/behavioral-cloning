{
 "cells": [
  {
   "cell_type": "markdown",
   "metadata": {},
   "source": [
    "## Load Data"
   ]
  },
  {
   "cell_type": "code",
   "execution_count": 22,
   "metadata": {},
   "outputs": [],
   "source": [
    "import pandas as pd\n",
    "import numpy as np\n",
    "import cv2\n",
    "import os\n",
    "from sklearn.model_selection import train_test_split\n",
    "import matplotlib.pyplot as plt\n",
    "%matplotlib inline"
   ]
  },
  {
   "cell_type": "code",
   "execution_count": 23,
   "metadata": {},
   "outputs": [],
   "source": [
    "# read the dataset\n",
    "data_df = pd.read_csv('data/driving_log.csv', header=None)"
   ]
  },
  {
   "cell_type": "code",
   "execution_count": 24,
   "metadata": {},
   "outputs": [],
   "source": [
    "# get the center, left and right as X data and the steering angle as y data\n",
    "X = data_df[[0,1,2]].values\n",
    "y = data_df[3].values"
   ]
  },
  {
   "cell_type": "code",
   "execution_count": 25,
   "metadata": {},
   "outputs": [],
   "source": [
    "X_train, X_val, y_train, y_val = train_test_split(X, y, test_size=0.33)"
   ]
  },
  {
   "cell_type": "code",
   "execution_count": 26,
   "metadata": {},
   "outputs": [
    {
     "name": "stdout",
     "output_type": "stream",
     "text": [
      "Train Length: 12567\n",
      "Val Length: 6190\n"
     ]
    }
   ],
   "source": [
    "print('Train Length:',len(X_train))\n",
    "print('Val Length:',len(X_val))"
   ]
  },
  {
   "cell_type": "code",
   "execution_count": 27,
   "metadata": {},
   "outputs": [
    {
     "data": {
      "image/png": "[encoded data removed]",
      "text/plain": [
       "<Figure size 432x288 with 1 Axes>"
      ]
     },
     "metadata": {
      "needs_background": "light"
     },
     "output_type": "display_data"
    }
   ],
   "source": [
    "# steering angle histogram\n",
    "plt.hist(y_train, bins=20)\n",
    "plt.show()"
   ]
  },
  {
   "cell_type": "markdown",
   "metadata": {},
   "source": [
    "## Data Preprocessing and Augmentation\n",
    "\n",
    "* augmentation\n",
    "    * choose center | left | right\n",
    "    * flip\n",
    "    * brightness\n",
    "* preprocess\n",
    "* batch generator"
   ]
  },
  {
   "cell_type": "code",
   "execution_count": 28,
   "metadata": {},
   "outputs": [],
   "source": [
    "def choose_image(image_paths, steering_angle):\n",
    "    '''Choose center | left | right and adjust the steering angle accordingly'''\n",
    "    \n",
    "    choice = np.random.choice(3)\n",
    "    \n",
    "    if choice == 0: # left\n",
    "        return cv2.imread(image_paths[1].strip()), steering_angle + 0.2\n",
    "    \n",
    "    elif choice == 1: # right\n",
    "        return cv2.imread(image_paths[2].strip()), steering_angle - 0.2\n",
    "    \n",
    "    return cv2.imread(image_paths[0].strip()), steering_angle # center"
   ]
  },
  {
   "cell_type": "code",
   "execution_count": 29,
   "metadata": {},
   "outputs": [],
   "source": [
    "def random_flip(image, steering_angle):\n",
    "    '''Randomly flip the image horizontally and adjust steering angle'''\n",
    "    \n",
    "    if np.random.rand() < 0.5:\n",
    "        image = cv2.flip(image, 1)\n",
    "        steering_angle = -steering_angle\n",
    "    return image, steering_angle"
   ]
  },
  {
   "cell_type": "code",
   "execution_count": 30,
   "metadata": {},
   "outputs": [],
   "source": [
    "def random_brightness(image):\n",
    "    '''Randomly increase or decrease brightness'''\n",
    "    \n",
    "    choice = np.random.choice(2)\n",
    "    \n",
    "    if choice == 1:\n",
    "        return image + np.random.randint(1,20)\n",
    "    \n",
    "    return image - np.random.randint(0,30)"
   ]
  },
  {
   "cell_type": "code",
   "execution_count": 31,
   "metadata": {},
   "outputs": [],
   "source": [
    "def augmentation(image_paths, steering_angle):\n",
    "    '''Generate an augmented image'''\n",
    "    \n",
    "    image, steering_angle = choose_image(image_paths, steering_angle)\n",
    "    \n",
    "    image, steering_angle = random_flip(image, steering_angle)\n",
    "    image = random_brightness(image)\n",
    "    \n",
    "    return image, steering_angle"
   ]
  },
  {
   "cell_type": "code",
   "execution_count": 32,
   "metadata": {},
   "outputs": [],
   "source": [
    "def preprocess_image(img):\n",
    "    '''Preprocess an image by cropping and resizing'''\n",
    "    img = img[60:-25,:]\n",
    "    img = cv2.resize(img, (200, 66))\n",
    "    return img"
   ]
  },
  {
   "cell_type": "code",
   "execution_count": 33,
   "metadata": {},
   "outputs": [],
   "source": [
    "def batch_generator(X_data, y_data, batch_size, is_training=True):\n",
    "    '''Generate Training Data'''\n",
    "    \n",
    "    images = np.empty([batch_size, 66, 200, 3])\n",
    "    steers = np.empty(batch_size)\n",
    "    while True:\n",
    "        i = 0\n",
    "        for idx in np.random.permutation(X_data.shape[0]):\n",
    "            image_paths = X_data[idx]\n",
    "            steering_angle = y_data[idx]\n",
    "            \n",
    "            # randomly decide to augment or not\n",
    "            if is_training and np.random.rand() < 0.5:\n",
    "                image, steering_angle = augmentation(image_paths, steering_angle)\n",
    "            else:\n",
    "                image = cv2.imread(image_paths[0])\n",
    "            \n",
    "            images[i] = preprocess_image(image)\n",
    "            steers[i] = steering_angle\n",
    "            \n",
    "            i += 1\n",
    "            if i == batch_size:\n",
    "                break\n",
    "        yield images, steers"
   ]
  },
  {
   "cell_type": "code",
   "execution_count": 34,
   "metadata": {},
   "outputs": [],
   "source": [
    "def display_image(img):\n",
    "    cv2.imshow('img', img)\n",
    "    cv2.waitKey(0)\n",
    "    cv2.destroyAllWindows()"
   ]
  },
  {
   "cell_type": "code",
   "execution_count": 39,
   "metadata": {},
   "outputs": [],
   "source": [
    "# # Display an augmented image\n",
    "# # itest = cv2.imread(X[432][0].strip())\n",
    "# itest, _ = augmentation(X[432], y[432])\n",
    "# itest = preprocess_image(itest)\n",
    "# display_image(itest)"
   ]
  },
  {
   "cell_type": "markdown",
   "metadata": {},
   "source": [
    "## Building the Model"
   ]
  },
  {
   "cell_type": "code",
   "execution_count": 15,
   "metadata": {},
   "outputs": [],
   "source": [
    "from tensorflow.keras.layers import Dense, Dropout, Flatten, Lambda, Convolution2D\n",
    "from tensorflow.keras.models import Sequential"
   ]
  },
  {
   "cell_type": "code",
   "execution_count": 16,
   "metadata": {},
   "outputs": [
    {
     "name": "stdout",
     "output_type": "stream",
     "text": [
      "Model: \"NvidiaModel\"\n",
      "_________________________________________________________________\n",
      "Layer (type)                 Output Shape              Param #   \n",
      "=================================================================\n",
      "lambda (Lambda)              (None, 66, 200, 3)        0         \n",
      "_________________________________________________________________\n",
      "conv2d (Conv2D)              (None, 31, 98, 24)        1824      \n",
      "_________________________________________________________________\n",
      "conv2d_1 (Conv2D)            (None, 14, 47, 36)        21636     \n",
      "_________________________________________________________________\n",
      "conv2d_2 (Conv2D)            (None, 5, 22, 48)         43248     \n",
      "_________________________________________________________________\n",
      "conv2d_3 (Conv2D)            (None, 3, 20, 64)         27712     \n",
      "_________________________________________________________________\n",
      "conv2d_4 (Conv2D)            (None, 1, 18, 64)         36928     \n",
      "_________________________________________________________________\n",
      "flatten (Flatten)            (None, 1152)              0         \n",
      "_________________________________________________________________\n",
      "dense (Dense)                (None, 100)               115300    \n",
      "_________________________________________________________________\n",
      "dropout (Dropout)            (None, 100)               0         \n",
      "_________________________________________________________________\n",
      "dense_1 (Dense)              (None, 50)                5050      \n",
      "_________________________________________________________________\n",
      "dense_2 (Dense)              (None, 10)                510       \n",
      "_________________________________________________________________\n",
      "dense_3 (Dense)              (None, 1)                 11        \n",
      "=================================================================\n",
      "Total params: 252,219\n",
      "Trainable params: 252,219\n",
      "Non-trainable params: 0\n",
      "_________________________________________________________________\n"
     ]
    }
   ],
   "source": [
    "model = Sequential(name='NvidiaModel')\n",
    "\n",
    "model.add(Lambda(lambda x: (x / 255.0) - 0.5, input_shape=(66,200,3)))      \n",
    "\n",
    "# 24 filters, kernel size = 5x5, stride = 2x2\n",
    "model.add(Convolution2D(24,5,2, activation='elu'))\n",
    "\n",
    "# 36 filters, kernel size = 5x5, stride = 2x2\n",
    "model.add(Convolution2D(36,5,2, activation='elu'))\n",
    "\n",
    "# 48 filters, kernel size = 5x5, stride = 2x2\n",
    "model.add(Convolution2D(48,5,2, activation='elu'))\n",
    "\n",
    "# 64 filters, kernel size = 3x3, stride = 1x1\n",
    "model.add(Convolution2D(64,3, activation='elu'))\n",
    "\n",
    "# 64 filters, kernel size = 3x3, stride = 1x1\n",
    "model.add(Convolution2D(64,3, activation='elu'))\n",
    "\n",
    "model.add(Flatten())\n",
    "\n",
    "model.add(Dense(100, activation='elu'))\n",
    "\n",
    "model.add(Dropout(0.25))\n",
    "\n",
    "model.add(Dense(50, activation='elu'))\n",
    "\n",
    "model.add(Dense(10, activation='elu'))\n",
    "\n",
    "model.add(Dense(1))\n",
    "\n",
    "model.summary()"
   ]
  },
  {
   "cell_type": "markdown",
   "metadata": {},
   "source": [
    "## Train Model"
   ]
  },
  {
   "cell_type": "code",
   "execution_count": 17,
   "metadata": {},
   "outputs": [],
   "source": [
    "from tensorflow.keras.callbacks import ModelCheckpoint\n",
    "from tensorflow.keras.optimizers import Adam, RMSprop"
   ]
  },
  {
   "cell_type": "code",
   "execution_count": 18,
   "metadata": {},
   "outputs": [],
   "source": [
    "checkpoint = ModelCheckpoint('model-{epoch:02d}-{val_loss:.3f}.h5',\n",
    "                                 monitor='val_loss',\n",
    "                                 verbose=1,\n",
    "                                 save_best_only=False)"
   ]
  },
  {
   "cell_type": "code",
   "execution_count": 19,
   "metadata": {},
   "outputs": [],
   "source": [
    "# Hyperparameters\n",
    "BATCH_SIZE = 32\n",
    "EPOCHS = 5\n",
    "STEPS_PER_EPOCH = 5000\n",
    "VALIDATION_STEPS = 1000\n",
    "LEARNING_RATE = 0.0001"
   ]
  },
  {
   "cell_type": "code",
   "execution_count": 20,
   "metadata": {},
   "outputs": [],
   "source": [
    "model.compile(loss='mean_squared_error', optimizer=Adam(lr=LEARNING_RATE))"
   ]
  },
  {
   "cell_type": "code",
   "execution_count": 21,
   "metadata": {
    "scrolled": true
   },
   "outputs": [
    {
     "name": "stdout",
     "output_type": "stream",
     "text": [
      "Epoch 1/5\n",
      "4999/5000 [============================>.] - ETA: 0s - loss: 0.0378\n",
      "Epoch 00001: saving model to model-01-0.028.h5\n",
      "5000/5000 [==============================] - 717s 143ms/step - loss: 0.0378 - val_loss: 0.0282\n",
      "Epoch 2/5\n",
      "4999/5000 [============================>.] - ETA: 0s - loss: 0.0344\n",
      "Epoch 00002: saving model to model-02-0.028.h5\n",
      "5000/5000 [==============================] - 676s 135ms/step - loss: 0.0344 - val_loss: 0.0277\n",
      "Epoch 3/5\n",
      "4999/5000 [============================>.] - ETA: 0s - loss: 0.0336\n",
      "Epoch 00003: saving model to model-03-0.029.h5\n",
      "5000/5000 [==============================] - 644s 129ms/step - loss: 0.0336 - val_loss: 0.0290\n",
      "Epoch 4/5\n",
      "4999/5000 [============================>.] - ETA: 0s - loss: 0.0335\n",
      "Epoch 00004: saving model to model-04-0.028.h5\n",
      "5000/5000 [==============================] - 479s 96ms/step - loss: 0.0335 - val_loss: 0.0279\n",
      "Epoch 5/5\n",
      "4999/5000 [============================>.] - ETA: 0s - loss: 0.0322\n",
      "Epoch 00005: saving model to model-05-0.029.h5\n",
      "5000/5000 [==============================] - 464s 93ms/step - loss: 0.0322 - val_loss: 0.0287\n"
     ]
    },
    {
     "data": {
      "text/plain": [
       "<tensorflow.python.keras.callbacks.History at 0x23df6ea2a08>"
      ]
     },
     "execution_count": 21,
     "metadata": {},
     "output_type": "execute_result"
    }
   ],
   "source": [
    "model.fit_generator(batch_generator(X_train, y_train, BATCH_SIZE), \n",
    "                    steps_per_epoch=STEPS_PER_EPOCH, \n",
    "                    epochs=EPOCHS, \n",
    "                    callbacks=[checkpoint], \n",
    "                    validation_data=batch_generator(X_val, y_val, BATCH_SIZE, is_training=False), \n",
    "                    validation_steps=VALIDATION_STEPS)"
   ]
  },
  {
   "cell_type": "code",
   "execution_count": null,
   "metadata": {},
   "outputs": [],
   "source": []
  }
 ],
 "metadata": {
  "kernelspec": {
   "display_name": "Python 3",
   "language": "python",
   "name": "python3"
  },
  "language_info": {
   "codemirror_mode": {
    "name": "ipython",
    "version": 3
   },
   "file_extension": ".py",
   "mimetype": "text/x-python",
   "name": "python",
   "nbconvert_exporter": "python",
   "pygments_lexer": "ipython3",
   "version": "3.7.6"
  }
 },
 "nbformat": 4,
 "nbformat_minor": 4
}
